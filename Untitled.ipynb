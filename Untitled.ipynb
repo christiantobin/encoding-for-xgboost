{
 "cells": [
  {
   "cell_type": "code",
   "execution_count": 1,
   "metadata": {},
   "outputs": [],
   "source": [
    "import pandas as pd"
   ]
  },
  {
   "cell_type": "code",
   "execution_count": 2,
   "metadata": {},
   "outputs": [
    {
     "data": {
      "text/html": [
       "<div>\n",
       "<style scoped>\n",
       "    .dataframe tbody tr th:only-of-type {\n",
       "        vertical-align: middle;\n",
       "    }\n",
       "\n",
       "    .dataframe tbody tr th {\n",
       "        vertical-align: top;\n",
       "    }\n",
       "\n",
       "    .dataframe thead th {\n",
       "        text-align: right;\n",
       "    }\n",
       "</style>\n",
       "<table border=\"1\" class=\"dataframe\">\n",
       "  <thead>\n",
       "    <tr style=\"text-align: right;\">\n",
       "      <th></th>\n",
       "      <th>c1</th>\n",
       "      <th>c2</th>\n",
       "      <th>c3</th>\n",
       "    </tr>\n",
       "  </thead>\n",
       "  <tbody>\n",
       "    <tr>\n",
       "      <th>0</th>\n",
       "      <td>CA</td>\n",
       "      <td>CA</td>\n",
       "      <td>chr</td>\n",
       "    </tr>\n",
       "    <tr>\n",
       "      <th>1</th>\n",
       "      <td>FL</td>\n",
       "      <td>NaN</td>\n",
       "      <td>mike</td>\n",
       "    </tr>\n",
       "    <tr>\n",
       "      <th>2</th>\n",
       "      <td>FL</td>\n",
       "      <td>FL</td>\n",
       "      <td>christian</td>\n",
       "    </tr>\n",
       "    <tr>\n",
       "      <th>3</th>\n",
       "      <td>CA</td>\n",
       "      <td>FL</td>\n",
       "      <td>mik</td>\n",
       "    </tr>\n",
       "    <tr>\n",
       "      <th>4</th>\n",
       "      <td>GA</td>\n",
       "      <td>MI</td>\n",
       "      <td>christia</td>\n",
       "    </tr>\n",
       "    <tr>\n",
       "      <th>5</th>\n",
       "      <td>WA</td>\n",
       "      <td>FL</td>\n",
       "      <td>m</td>\n",
       "    </tr>\n",
       "  </tbody>\n",
       "</table>\n",
       "</div>"
      ],
      "text/plain": [
       "   c1   c2         c3\n",
       "0  CA   CA        chr\n",
       "1  FL  NaN       mike\n",
       "2  FL   FL  christian\n",
       "3  CA   FL        mik\n",
       "4  GA   MI   christia\n",
       "5  WA   FL          m"
      ]
     },
     "execution_count": 2,
     "metadata": {},
     "output_type": "execute_result"
    }
   ],
   "source": [
    "df = pd.read_csv('./test.csv')\n",
    "df"
   ]
  },
  {
   "cell_type": "code",
   "execution_count": 3,
   "metadata": {},
   "outputs": [
    {
     "name": "stdout",
     "output_type": "stream",
     "text": [
      "    c2   c1\n",
      "0  0.0  0.0\n",
      "1  NaN  1.0\n",
      "2  1.0  1.0\n",
      "3  1.0  0.0\n",
      "4  3.0  2.0\n",
      "5  1.0  4.0\n",
      "   c1   c2         c3\n",
      "0  CA   CA        chr\n",
      "1  FL  NaN       mike\n",
      "2  FL   FL  christian\n",
      "3  CA   FL        mik\n",
      "4  GA   MI   christia\n",
      "5  WA   FL          m\n",
      "after nan = 0:\n",
      "     c1   c2         c3\n",
      "0  1.0  1.0        chr\n",
      "1  2.0  0.0       mike\n",
      "2  2.0  2.0  christian\n",
      "3  1.0  2.0        mik\n",
      "4  3.0  4.0   christia\n",
      "5  5.0  2.0          m\n"
     ]
    }
   ],
   "source": [
    "# Clean up States\n",
    "bkup = df['c1'] # will be used later to reference states\n",
    "stacked = df[{'c1','c2'}].stack().astype('category')\n",
    "result = stacked.cat.codes.unstack()\n",
    "print(result)\n",
    "print(df)\n",
    "df['c1'] = result['c1'] + 1\n",
    "df['c2'] = result['c2'] + 1\n",
    "df = df.fillna(0)\n",
    "print('after nan = 0:\\n',df)"
   ]
  },
  {
   "cell_type": "code",
   "execution_count": 11,
   "metadata": {},
   "outputs": [
    {
     "data": {
      "text/plain": [
       "array([0, 5, 2, 4, 1, 3])"
      ]
     },
     "execution_count": 11,
     "metadata": {},
     "output_type": "execute_result"
    }
   ],
   "source": [
    "# Encode Names with similar spelling\n",
    "df['c3'] = df['c3'].str.upper()\n",
    "from sklearn.preprocessing import LabelEncoder\n",
    "le = LabelEncoder()\n",
    "le = le.fit(df['c3'])\n",
    "le_encdr = le.transform(df['c3'])\n",
    "le_encdr # m, mik, and mike are a lot closer numerically than chr, christian, and christia. Perhaps can use floats insteead of ints to be more accurate with a larger CSV sample."
   ]
  },
  {
   "cell_type": "code",
   "execution_count": null,
   "metadata": {},
   "outputs": [],
   "source": []
  }
 ],
 "metadata": {
  "kernelspec": {
   "display_name": "Python 3",
   "language": "python",
   "name": "python3"
  },
  "language_info": {
   "codemirror_mode": {
    "name": "ipython",
    "version": 3
   },
   "file_extension": ".py",
   "mimetype": "text/x-python",
   "name": "python",
   "nbconvert_exporter": "python",
   "pygments_lexer": "ipython3",
   "version": "3.7.4"
  }
 },
 "nbformat": 4,
 "nbformat_minor": 4
}
